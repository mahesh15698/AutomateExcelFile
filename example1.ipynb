{
 "cells": [
  {
   "cell_type": "code",
   "execution_count": 14,
   "metadata": {},
   "outputs": [],
   "source": [
    "import logging"
   ]
  },
  {
   "cell_type": "code",
   "execution_count": 15,
   "metadata": {},
   "outputs": [],
   "source": [
    "import schedule \n",
    "import time\n",
    "import pandas as pd \n",
    "from Ex_Col.logger import logging\n",
    "from Ex_Col.exception import ExcelException"
   ]
  },
  {
   "cell_type": "code",
   "execution_count": 17,
   "metadata": {},
   "outputs": [
    {
     "name": "stdout",
     "output_type": "stream",
     "text": [
      "Hello i am extracting excel's columns\n",
      "Hello i am extracting excel's columns\n",
      "\"['Last_Nam'] not in index\"\n",
      "Hello i am extracting excel's columns\n",
      "Hello i am extracting excel's columns\n",
      "Hello i am extracting excel's columns\n",
      "Hello i am extracting excel's columns\n",
      "Hello i am extracting excel's columns\n",
      "Hello i am extracting excel's columns\n",
      "Hello i am extracting excel's columns\n",
      "Hello i am extracting excel's columns\n",
      "Hello i am extracting excel's columns\n",
      "Hello i am extracting excel's columns\n",
      "Hello i am extracting excel's columns\n",
      "Hello i am extracting excel's columns\n",
      "Hello i am extracting excel's columns\n",
      "Hello i am extracting excel's columns\n",
      "Hello i am extracting excel's columns\n",
      "Hello i am extracting excel's columns\n",
      "Hello i am extracting excel's columns\n",
      "\"['Asgn-0'] not in index\"\n",
      "Hello i am extracting excel's columns\n",
      "Hello i am extracting excel's columns\n",
      "\"['Last_Nam'] not in index\"\n",
      "Hello i am extracting excel's columns\n",
      "Hello i am extracting excel's columns\n",
      "Hello i am extracting excel's columns\n",
      "Hello i am extracting excel's columns\n",
      "Hello i am extracting excel's columns\n",
      "Hello i am extracting excel's columns\n",
      "Hello i am extracting excel's columns\n",
      "Hello i am extracting excel's columns\n",
      "Hello i am extracting excel's columns\n",
      "Hello i am extracting excel's columns\n",
      "Hello i am extracting excel's columns\n",
      "Hello i am extracting excel's columns\n"
     ]
    },
    {
     "ename": "KeyboardInterrupt",
     "evalue": "",
     "output_type": "error",
     "traceback": [
      "\u001b[1;31m---------------------------------------------------------------------------\u001b[0m",
      "\u001b[1;31mKeyboardInterrupt\u001b[0m                         Traceback (most recent call last)",
      "Cell \u001b[1;32mIn[17], line 17\u001b[0m\n\u001b[0;32m     15\u001b[0m \u001b[39mwhile\u001b[39;00m \u001b[39m1\u001b[39m:\n\u001b[0;32m     16\u001b[0m     schedule\u001b[39m.\u001b[39mrun_pending()\n\u001b[1;32m---> 17\u001b[0m     time\u001b[39m.\u001b[39;49msleep(\u001b[39m1\u001b[39;49m)\n",
      "\u001b[1;31mKeyboardInterrupt\u001b[0m: "
     ]
    }
   ],
   "source": [
    "def extract_columns():\n",
    "    try:\n",
    "        print(\"Hello i am extracting excel's columns\")\n",
    "        excel_path = r'C:\\Users\\Admin\\AutomateExcelFile\\CS675-22531-Spring-2023-Assignments.xlsx'\n",
    "        df = pd.read_excel(excel_path)\n",
    "        columns_to_extract = ['Last_Name','First_Name','Asgn-0']\n",
    "        extracted_columns = df[columns_to_extract]\n",
    "        # Save the extracted columns to a new Excel file\n",
    "        extracted_columns.to_excel('extracted_columns.xlsx', index=False)\n",
    "    except Exception as e:\n",
    "        logging.error(f\"{e}\")\n",
    "        print(e)\n",
    "\n",
    "schedule.every(10).seconds.do(extract_columns)\n",
    "while 1:\n",
    "    schedule.run_pending()\n",
    "    time.sleep(1)"
   ]
  },
  {
   "cell_type": "code",
   "execution_count": null,
   "metadata": {},
   "outputs": [],
   "source": []
  }
 ],
 "metadata": {
  "kernelspec": {
   "display_name": "Python 3",
   "language": "python",
   "name": "python3"
  },
  "language_info": {
   "codemirror_mode": {
    "name": "ipython",
    "version": 3
   },
   "file_extension": ".py",
   "mimetype": "text/x-python",
   "name": "python",
   "nbconvert_exporter": "python",
   "pygments_lexer": "ipython3",
   "version": "3.9.17"
  },
  "orig_nbformat": 4
 },
 "nbformat": 4,
 "nbformat_minor": 2
}
